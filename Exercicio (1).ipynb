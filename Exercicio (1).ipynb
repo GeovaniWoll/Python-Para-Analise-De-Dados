{
  "nbformat": 4,
  "nbformat_minor": 0,
  "metadata": {
    "colab": {
      "provenance": [],
      "collapsed_sections": []
    },
    "kernelspec": {
      "name": "python3",
      "display_name": "Python 3"
    },
    "language_info": {
      "name": "python"
    }
  },
  "cells": [
    {
      "cell_type": "markdown",
      "metadata": {
        "id": "muD1vxozykSC"
      },
      "source": [
        "## 1\\. Google Colab"
      ]
    },
    {
      "cell_type": "markdown",
      "metadata": {
        "id": "ahrFfCuBxJKs"
      },
      "source": [
        "Crie uma célula de código que escreva o texto \"Olá mundo!\", utilize o comando `print`."
      ]
    },
    {
      "cell_type": "markdown",
      "metadata": {
        "id": "KI9zQRT2xa7m"
      },
      "source": [
        "Crie uma célua de texto e adicione uma imagem."
      ]
    },
    {
      "cell_type": "code",
      "execution_count": null,
      "metadata": {
        "id": "WgO9LfA0TPuY"
      },
      "outputs": [],
      "source": [
        "print('Olá mundo')"
      ]
    },
    {
      "cell_type": "markdown",
      "source": [
        "![download.jpg](data:image/jpeg;base64,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)"
      ],
      "metadata": {
        "id": "kVPZ3wxbTltH"
      }
    },
    {
      "cell_type": "markdown",
      "source": [
        "Preencha as células de código para preencher os valores de (A), (B) e (C) na tabela de ticket médio abaixo:\n",
        "\n",
        "<br>\n",
        "\n",
        "| Dia   | Valor Total Vendas | Qtd Total Vendas | Ticket Medio |\n",
        "|-------|--------------------|------------------|--------------|\n",
        "| 19/01 | (A)                | 3                | 320.52       |\n",
        "| 20/01 | 834.47             | (B)              | 119.21       |\n",
        "| 23/01 | 15378.12           | 5                | (C)          |"
      ],
      "metadata": {
        "id": "n0M4Suy3VHQ2"
      }
    },
    {
      "cell_type": "code",
      "metadata": {
        "id": "VwKqD1X7YlpP"
      },
      "source": [
        "# (A) =961.56\n",
        "qtv_19 = 3\n",
        "tkt_19 = 320.52\n",
        "\n",
        "vtv_19 = qtv_19* tkt_19\n",
        "print(vtv_19)"
      ],
      "execution_count": null,
      "outputs": []
    },
    {
      "cell_type": "code",
      "metadata": {
        "id": "X9mzMUFNcqnD"
      },
      "source": [
        "# (B) = 7.000000000000001\n",
        "vtv_20 = 834.47\n",
        "tkt_20 = 119.21\n",
        "\n",
        "qtv_20 = vtv_20/ tkt_20\n",
        "print(qtv_20)"
      ],
      "execution_count": null,
      "outputs": []
    },
    {
      "cell_type": "code",
      "metadata": {
        "id": "nno90yUqYlpR"
      },
      "source": [
        "#(c) =3075.6240000000003\n",
        "svv_23 = 15378.12\n",
        "sqv_23 = 5\n",
        "\n",
        "tkt_23 = svv_23/ sqv_23\n",
        "print(tkt_23)"
      ],
      "execution_count": null,
      "outputs": []
    },
    {
      "cell_type": "markdown",
      "metadata": {
        "id": "yUJ6kdony6Pr"
      },
      "source": [
        "## 3\\. Strings"
      ]
    },
    {
      "cell_type": "markdown",
      "metadata": {
        "id": "KDuZpg-5zCvO"
      },
      "source": [
        "Aplique três métodos distintos na *string* abaixo"
      ]
    },
    {
      "cell_type": "code",
      "metadata": {
        "id": "k9zbyf7BzjKj"
      },
      "source": [
        "cancao = 'Roda mundo, roda gigante, roda moinho, roda pião.'\n",
        "print(cancao.capitalize())\n",
        "print(cancao.isalpha())\n",
        "print(cancao.find(cancao))"
      ],
      "execution_count": null,
      "outputs": []
    },
    {
      "cell_type": "markdown",
      "metadata": {
        "id": "guZMHXVq0FnC"
      },
      "source": [
        "Extraia da string abaixo o valor da taxa **selic** na variável `selic` e o valor do **ano** na variavel `ano`. Imprima os valores na tela."
      ]
    },
    {
      "cell_type": "code",
      "metadata": {
        "id": "cbx_P4IQ0agK"
      },
      "source": [
        "selic = 'selic vai a 2,75% e supera expectativas; é a primeira alta em 6 anos.'\n",
        "ano ='selic vai a 2,75% e supera expectativas; é a primeira alta em 6 anos.'\n",
        "selic = selic [12:17]\n",
        "print(selic)\n",
        "ano = ano[62:68]\n",
        "print(ano)"
      ],
      "execution_count": null,
      "outputs": []
    },
    {
      "cell_type": "markdown",
      "metadata": {
        "id": "no8w_Ati01xP"
      },
      "source": [
        "## 4\\. Booleanos"
      ]
    },
    {
      "cell_type": "markdown",
      "metadata": {
        "id": "D_0tC3SC099N"
      },
      "source": [
        "Utilize a tabela da verdade para responder: qual o valor da variável x?"
      ]
    },
    {
      "cell_type": "code",
      "metadata": {
        "id": "XwIEbxf91SpU",
        "colab": {
          "base_uri": "https://localhost:8080/"
        },
        "outputId": "4aa7f50f-9309-45c8-e427-93b458cfa07d"
      },
      "source": [
        "a = False\n",
        "b = True\n",
        "\n",
        "x = not a & b = False\n",
        "\n",
        "print(False | True)\n",
        "print(True | False)\n",
        "print(True)"
      ],
      "execution_count": null,
      "outputs": [
        {
          "output_type": "stream",
          "name": "stdout",
          "text": [
            "True\n",
            "True\n",
            "True\n"
          ]
        }
      ]
    },
    {
      "cell_type": "markdown",
      "metadata": {
        "id": "CHn4_ahDIAjz"
      },
      "source": [
        "| A        | B        | | | A OR B   | | A AND B  | | NOT A    |\n",
        "|----------|----------|-|-|----------|-|----------|-|----------|\n",
        "| **TRUE** | **TRUE** | | | **TRUE** | | **TRUE** | | FALSE    |\n",
        "| **TRUE** | FALSE    | | | **TRUE** | | FALSE    | | FALSE    |\n",
        "| FALSE    | FALSE    | | | FALSE    | | FALSE    | | **TRUE** |\n",
        "| FALSE    | **TRUE** | | | **TRUE** | | FALSE    | | **TRUE** |"
      ]
    }
  ]
}