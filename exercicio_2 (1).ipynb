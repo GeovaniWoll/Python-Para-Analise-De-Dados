{
  "nbformat": 4,
  "nbformat_minor": 0,
  "metadata": {
    "colab": {
      "provenance": [],
      "collapsed_sections": []
    },
    "kernelspec": {
      "name": "python3",
      "display_name": "Python 3"
    },
    "language_info": {
      "name": "python"
    }
  },
  "cells": [
    {
      "cell_type": "markdown",
      "metadata": {
        "id": "GABI6OW8OfQ2"
      },
      "source": [
        "# **Exercícios**"
      ]
    },
    {
      "cell_type": "markdown",
      "metadata": {
        "id": "MJawoop0y3Dm"
      },
      "source": [
        "Criei uma lista chamada `filmes` com o nome dos 10 primeiros filmes mais bem avaliados no site no [IMDB](https://www.imdb.com/chart/top/). Imprima o resultado."
      ]
    },
    {
      "cell_type": "code",
      "metadata": {
        "id": "OgL6Hv3bzOHI"
      },
      "source": [
        "lista_filmes = [' Um Sonho de Liberdade', ' O Poderoso Chefão ',\t\n",
        "'  Batman: O Cavaleiro das Trevas', ' O Poderoso Chefão 2', ' 12 Homens e uma Sentença', ' A Lista de Schindler', ' O Senhor dos Anéis: O Retorno do Rei', ' Pulp Fiction: Tempo de Violência', ' O Senhor dos Anéis: A Sociedade do Anel', ' Três Homens em Conflito']\n"
      ],
      "execution_count": 89,
      "outputs": []
    },
    {
      "cell_type": "code",
      "source": [
        "print(lista_filmes)"
      ],
      "metadata": {
        "id": "ZZo33aU-ds7j"
      },
      "execution_count": null,
      "outputs": []
    },
    {
      "cell_type": "markdown",
      "metadata": {
        "id": "KI9zQRT2xa7m"
      },
      "source": [
        "Simule a movimentação do *ranking*. Utilize os métodos `insert` e `pop` para trocar a posição do primeiro e do segundo filme da lista. Imprima o resultado.\n",
        "\n"
      ]
    },
    {
      "cell_type": "code",
      "metadata": {
        "id": "zX3mA3_GzrXH"
      },
      "source": [
        "lista_filmes.pop(0)\n",
        "lista_filmes.pop(0)\n",
        "lista_filmes.insert(0, ' O Poderoso Chefão ')\n",
        "lista_filmes.insert(1, ' Um Sonho de Liberdade')\n",
        "print(lista_filmes)"
      ],
      "execution_count": null,
      "outputs": []
    },
    {
      "cell_type": "markdown",
      "metadata": {
        "id": "lxa5L6uF0ZJE"
      },
      "source": [
        "## 2\\. Conjuntos"
      ]
    },
    {
      "cell_type": "markdown",
      "metadata": {
        "id": "9JahS2Kj0d5u"
      },
      "source": [
        "Aconteceu um erro no seu *ranking*. Simule a duplicação dos três últimos filmes da lista. Imprima o resultado."
      ]
    },
    {
      "cell_type": "code",
      "metadata": {
        "id": "BnjnLBNC6PGe"
      },
      "source": [
        "lista_filmes = [' Um Sonho de Liberdade', ' O Poderoso Chefão ',\t\n",
        "'  Batman: O Cavaleiro das Trevas', ' O Poderoso Chefão 2', ' 12 Homens e uma Sentença', ' A Lista de Schindler', ' O Senhor dos Anéis: O Retorno do Rei', ' Pulp Fiction: Tempo de Violência', ' O Senhor dos Anéis: A Sociedade do Anel', ' Três Homens em Conflito']\n"
      ],
      "execution_count": 92,
      "outputs": []
    },
    {
      "cell_type": "code",
      "source": [
        "\n",
        "lista_filmes.insert(1, ' Pulp Fiction: Tempo de Violência')\n",
        "lista_filmes.insert(2, ' O Senhor dos Anéis: A Sociedade do Anel')\n",
        "lista_filmes.insert(3, 'Três Homens em Conflito')\n",
        "print(lista_filmes)"
      ],
      "metadata": {
        "id": "Dfy9Pg_S1AGE"
      },
      "execution_count": null,
      "outputs": []
    },
    {
      "cell_type": "markdown",
      "metadata": {
        "id": "suxTfCJB6ZiX"
      },
      "source": [
        "Utiliza a conversão `set` e `list` para remover os valores duplicados. Imprima o resultado. "
      ]
    },
    {
      "cell_type": "code",
      "metadata": {
        "id": "ZvUGN-0n6joM"
      },
      "source": [
        "lista_filmes = {'Um Sonho de Liberdade', 'Pulp Fiction: Tempo de Violência', 'O Senhor dos Anéis: A Sociedade do Anel', 'Três Homens em Conflito', 'O Poderoso Chefão', 'Batman: O Cavaleiro das Trevas', 'O Poderoso Chefão 2', '12 Homens e uma Sentença', 'A Lista de Schindler', 'O Senhor dos Anéis: O Retorno do Rei', 'Pulp Fiction: Tempo de Violência', 'O Senhor dos Anéis: A Sociedade do Anel', 'Três Homens em Conflito'}\n",
        "print(lista_filmes)\n",
        "print(type(lista_filmes))"
      ],
      "execution_count": null,
      "outputs": []
    },
    {
      "cell_type": "markdown",
      "metadata": {
        "id": "EL_FzmxL6rTv"
      },
      "source": [
        "## 3\\. Dicionários"
      ]
    },
    {
      "cell_type": "markdown",
      "metadata": {
        "id": "i8l0gFqRCpfT"
      },
      "source": [
        "Repita os exercícios da parte 1 (listas). Os elementos da lista `filmes` devem ser dicionários no seguinte formato: `{'nome': <nome-do-filme>, 'ano': <ano do filme>}, 'sinopse': <sinopse do filme>}`. "
      ]
    },
    {
      "cell_type": "markdown",
      "source": [
        "![1.jpg](data:image/jpeg;base64,/9j/4AAQSkZJRgABAQAAAQABAAD/2wCEAAkJCggKCAsLCQsKCwsLDhAMCgsNExcVEBQPFhISDhYSDxQPDxQSFBgTFhQZIBoeGRgrIRwkExwdMiIzKjclIjABBgsKCw0OCwwMDg4MDRAOHRQNDCIUFRcOHggXDBAWEBEXCxATFAsRGREeCRkMCCIYHRQPHRANDA8WEAsUFSMWGP/AABEIAEMALQMBIgACEQEDEQH/xAB/AAABBQEBAQAAAAAAAAAAAAAEAAEDBgcFAggQAAIBAwMDAgYCAwAAAAAAAAECEQADIQQSMQUTUQZBFCJCYXGRMqEzYuEBAAIDAQAAAAAAAAAAAAAAAAAEAQMGBREAAgIBAgUFAAAAAAAAAAAAAAECEQMSIQQiMUGxE0JRYaH/2gAMAwEAAhEDEQA/AOt07WdxBsuvnJzmatqPceHJXyFBx9vp4rINDrWsMrGZmVQVbbHWOzaa5e3FLSs5jnaFLZ/VZV49D2Wxp5x179GXle6oE3CYI5bkff5anTviPnJBAmWM8iY+Wso9IerNX1bri6Hqgtomq3fCXEIUWsSEiIeY92rTBeZG23AyssgzTbbxup0jm6VJcrsOVb8ibjbRgndmI5/jEzzRVmQGG5mzy1c5bwIgVPbuwWplZYi7xs+breo23RmWPOMg/wDPHvXVPULdnSudSxCIJjksV4RT/s37iaqbau+FW2tu0+3Npoh1+xII3A+DmczzI15dVdHe1LQmdqjP6UHge5NXPCnV7Di4hxTpW/wHJDs7bQm8lkUcKJwF/Aq7+nPV+r6ZGm6o93WaC4ygM7TcscKXSQSRH0CqS2MQVwCfweJ/Nd3oXR9P1x72jTUrpdclp7+mN3/DcK57THGwn2ar5qLTU1cXsznx1Xy9Vubx32tgboZCgupcXh0K71K+QQZrxb6ghWSec1iujPqzSL2l1t1F0hF3T6V2DoWXhVW4dir5BgRNWu1rb/aQam5ZOoCg3nt8GeJVoCkeFxWdyYHGtM1NdvmvB3sVTvXCUGur9t+exlYcgnzU+mVma7eckdtGjwTtPyn7RQVSKzCQCRPNacz1hZNu3pHBO65cIJagj7f1Xt2lQKiPFCBu6+kWQ6y4SC7u5uBWdm5MDFQtq13EwTJnJrlvd3EFZACgAH8Cf7mo92ap0IZ9aRADHtNGrpNS22FtQwDBiwACmDJlsAA5NQW7W8EuWRR9cSv7kUT22LwdQA3IlRkEBPc+BV4pbHGj1MqXVF34VJBMwWyNwIiMzXj4TUlZ22gPJYD6d8/ywIwTxLATUnaUYF6SwUNxwsRGDXg2s71vZXhWg5nd5jmgm2R37N7T7O8iAvMAGeMEGDjNDUSbe6Ab0yZHy8k0Oyuhhgy+JwaCLY2aeBSpVAD0xyc0qVADUsnmlSoIP//Z)"
      ],
      "metadata": {
        "id": "BwNCnXtoBTtD"
      }
    },
    {
      "cell_type": "code",
      "source": [
        "primeiro_filme = {'Um Sonho de Liberdade'}, {1994}, {'Dois homens presos se reúnem ao longo de vários anos, encontrando consolo e eventual redenção através de atos de decência comum.'}\n",
        "print(primeiro_filme)"
      ],
      "metadata": {
        "id": "k8QpZ6dsBupQ"
      },
      "execution_count": null,
      "outputs": []
    },
    {
      "cell_type": "markdown",
      "source": [
        "![2.jpg](data:image/jpeg;base64,/9j/4AAQSkZJRgABAQAAAQABAAD/2wCEAAkJCggKCAsLCQsKCwsLDhAMCgsNExcVEBQPFhISDhYSDxQPDxQSFBgTFhQZIBoeGRgrIRwkExwdMiIzKjclIjABBgsKCw0OCwwMDg4MDRAOHRQNDCIUFRcOHggXDBAWEBEXCxATFAsRGREeCRkMCCIYHRQPHRANDA8WEAsUFSMWGP/AABEIAEMALQMBIgACEQEDEQH/xACDAAACAgMBAQAAAAAAAAAAAAAABwMEAgUGAQgQAAICAgEDAwEHBQAAAAAAAAECAwQAEQUSEyEGMVFBFCIjJHGRoQc1UmGCAQADAQEBAAAAAAAAAAAAAAAAAwQFAQIRAAICAQQCAAYDAAAAAAAAAAERAAIDEiExQVFxEyJSYZHBgdHh/9oADAMBAAIRAxEAPwBN8d/c6f0/MQ+f+1+fGfRfKXW46GyYIjauz3wlKopUF2CRSMzEeyoo2S3yBnzdUANyuCzqDKgLIdMB1Dyp0dEfTxjU9YVpeHt1L0dvk54kuzwzPNJ3GUmGs4CbjQKXAbfz0Yi765W3uOppY1FB7+p1V/0/yXNcbKnLX4Q8kglHaHgdAcRqR0+CodgcRHJ0LPGX5qdkakhOifoQQCCMbyeob71a1ilw9q7BZZoyDL0MkiEDTBY3ADbBBOcl65+1PLBNc6Fd+kRRBgzRqE6njYr4bpZh5yDDlvqFbbPpgnWOdhuJdlwjTaw67SGg8bnnmL/DDDNaZcsVFke3AsSs8hkQIiAlieoaAA8nHpzva5ChzFdTEsosw8lwQLM8k5iWNJnRetk0FDKv+yRiz9Pi7XoycnxUzJdp2FE0UaB5GqsF2QrDyA2bn1OeTiqpyFqSGN7Y6a3Yco4m6/xJ1iB/CE8aqH17kLvM6+V3FAm0u9e3XgC2r1NGmJV1lrl/bc/k6dMs+m+Q5GZp5JZfyneklKBCIwp0WYOkWixA9nfNF62KS8hSli8RzVA8MRBDCMySdLsp9u6PK/K6bK3B8H6g5JY/ssMyV3bqaWUP2H/VUQsww9Wcdf4u/DFycxsWp4PtTTlSHO3eIByzEkKI/u/A0NZzHioMpsCGkKiMy57WxiiIZdif1+po046/IpaCITge/ZZXP7IxOUnSSNykisjr4ZWGiP1BySWKzAytLHLEWAZCwI39djeRu8kjFpHZ2PuzEk/ucvD8giZ1gBsrVPb/AKQM67gUEFGzahtNWm6GGw6gFAmyHBPV4bOUnnsWHD2JZJWA0GdiSB8DZyPbAaBOj7jO69NUK3J8bJVnihBkeSJLIjQyodwlSGI6vBc5MQMZtkPzM89iq88mONzetKDYVHHWqOniL9aDgeMiQruKlWRlXXuIkBxaf1QZLlyhPBpzDWkE7D6IJUC/zLmruiLhebj42efkrddIYy4hASVpWboCxF1Kunt/K7zIxw1eale7zcCdmMp+FGthA0nXG1Z0MmyUCr5CMA2KrawIJSTGxa9APuBFeiXOEuXLNvtiZiwjUBf2GzlLJ7MccViSOKUTxq2o5gCodfcMFb7w2Pocgy8AABBCIta1iTYmx88n8/whPcbfpqtDZ9N1EN56UbNNHOK7xI7uzzb6y6M4KoqaxSgE+wJyTszHRCHR9sXemsANItp9f7AFRwz8fxLcTX4uKaIVRB12LAePvv0vPKgLdo9W5GTwCNLlHk+L9P252taaExtNGsFZkCkixsPoJ4G5Dv4UYrOzN/gcOxP9EOTfAt1kI38eee4wXH0yxya1U5CdKfd7EbCNO4QWPSAhJKgA7YHWUckaKVdbQ+fIyPLQEAG0OYkz0Eg7Ge9TfOGGepyZCWUDQdgPjBpZWO2Yt+uGGEJiWb5zHDDCE//Z)"
      ],
      "metadata": {
        "id": "rar7i_O2LpX6"
      }
    },
    {
      "cell_type": "code",
      "source": [
        "segundo_filme = {' O Poderoso Chefão'}, {'1972'}, {'O patriarca idoso de uma dinastia do crime organizado transfere o controle de seu império clandestino para seu filho relutante'}\n",
        "print(segundo_filme)"
      ],
      "metadata": {
        "id": "9ufOlbQuEiTt"
      },
      "execution_count": null,
      "outputs": []
    },
    {
      "cell_type": "markdown",
      "source": [
        "![3.jpg](data:image/jpeg;base64,/9j/4AAQSkZJRgABAQAAAQABAAD/2wCEAAkJCggKCAsLCQsKCwsLDhAMCgsNExcVEBQPFhISDhYSDxQPDxQSFBgTFhQZIBoeGRgrIRwkExwdMiIzKjclIjABBgsKCw0OCwwMDg4MDRAOHRQNDCIUFRcOHggXDBAWEBEXCxATFAsRGREeCRkMCCIYHRQPHRANDA8WEAsUFSMWGP/AABEIAEMALQMBIgACEQEDEQH/xACEAAADAQEBAQEAAAAAAAAAAAAEBQYAAwECBxAAAgIBBAEDAwIFBQAAAAAAAQIDEQQABRIhMRMiQTJRgSRhBhQjM6FCcXKR0QEAAwEBAQAAAAAAAAAAAAAAAwQFAQIGEQACAQMDBAICAwAAAAAAAAABAhEAAyExQWEEEiJRMnEFE1LBwv/aAAwDAQACEQMRAD8Af4GdPt20wI+GYsTgFSQCgzmz8eSRoAzYXN5EQIH7ccGLdnvtW0Nu2/T5Wc2BEQceMgrXjjqWfep2nhmgxshcWP1Y19O0RyAY1ZjRAPu1SJCxMAscZ39Z3xUFVd+7tDMFEsYmFmJMbSYFXk294qwC3wsbHhKxuZuuz4BqQ6lszfdgkEzrlpI8IPDjG9v8j07atQW5OZ55XbCTHkdeo+/aD7loWR9PzofFw2lxpMhnggRLCGUheZFWqEnzoTXUQAkgKdDyactdLcuF1Ct3qCWXA8Rr9ehzFWD5scu15OdthinfFZfVV1YUpYLZWw2oTLzpM2US5ccRYDivpjj1+9WTqmwkbaosg5LJLFuOMYfQQ0xBsLKvJACFvqj2G1JpGO+Sj83/AIo6EHFwSpkTHEimDZawSt1SpIDD+XYfrTSv1DIxMDbrysX1g+LC4yY5SebTKKLtZ9vJ+gNctm/iGWDZmgzBhpEzgWIQG+WazGB2DWiN0kxMnY3nilT186SP+agF80Pch5X5FrQOpVMcT3Erf2/APi24/t19Oueo6db6qr7Nhtx7jbPxPBoXR9YemZ3VQ2PgfiWnx58ZLjeQKo5Zo8zLgWOXHlDSA5MrCnSDiXKD1b5LQ82StaX75u2yTyrDtGFWHBQhElcJGFqztQJIfQOWsWOQrxOJJp44o+6HHtGIse6rHQ17k7d6AurBJqtI2/x6KRLlgBhdPL3I+4WIETgmrt783eIm3bFomZfUFTAMpx2T7mkztNPM0spsk+0D6VAFBUHwqgUB9hoOZWjkNeG7/OnDxKUuqr50HIvu77+1atC2AABgDQcV5X9rOxZiWJ1p5lwOJLiclSKCfH/ume3Yvgv5ZrbSfGyTw5EFqFeLAOmcG5EdKvFwKBYdBvgsPNXohE0upAnalG952R+sxkMfpxTmJCiAsfath2YG+JJriB2fPjX1/D/WC8UzgiW3iTyV4kKf+PKx/wBalecjy3J7w0jSM/wzk9stj5/YabYskkUrGiHKlK+fvVaGizmqL+K9sUzkYxl1PhejpVNydrT83rlJPK8pVQzP8rXu156qDoAg/wCq/N6LIpQIwzv64rrj5eaqehjztGjuG4h+Kc+gGYkhR4HZ0emZvPJA2Yf1bJGXEyk+5VoyU/VKwB5UBRGkmPAsqszOy8SB7f8AYE/ka6rBj+FmayL4nyb7+2lxc09U+bQzVam3Z8MAmys3PgxoAhGTkL+n/qCQKYWhnb4Vrvs2F+oqpBy03aBBlfzeYhevSGUyxSOOZQMkbTtKFUmxyF0b0FincIYpGgmzPRjYcvcwQOPeptSFtSLF9qVBGhcmGWXKLZs+S8zrzDTEs5WyAbeyR1rrvXbTYR/c7bVwEY6kc5/zGJ3ycYHuuhyt6gd5jmESVTOuQhcqODV7JCx/uCvvTfZqUT5Ek8rSzO0kjfW7GyfjsnRDY+Jyppmv8X+etBTqIpmQWyiuJbzRAb/N6AXpoIKGs9ft41h51tbS1M1rJJ78+dbW1tbWV7ra2trayv/Z)"
      ],
      "metadata": {
        "id": "AqI4WVCtLzOg"
      }
    },
    {
      "cell_type": "code",
      "source": [
        "terceiro_filme = {' Batman: O Cavaleiro das Trevas'}, {'2008'}, {'Quando a ameaça conhecida como O Coringa surge de seu passado, causa estragos e caos nas pessoas de Gotham. O Cavaleiro das Trevas deve aceitar um dos maiores testes para combater a injustiça'}\n",
        "print(terceiro_filme)"
      ],
      "metadata": {
        "id": "7y4t8IRzFAft"
      },
      "execution_count": null,
      "outputs": []
    },
    {
      "cell_type": "markdown",
      "source": [
        "![4.jpg](data:image/jpeg;base64,/9j/4AAQSkZJRgABAQAAAQABAAD/2wCEAAkJCggKCAsLCQsKCwsLDhAMCgsNExcVEBQPFhISDhYSDxQPDxQSFBgTFhQZIBoeGRgrIRwkExwdMiIzKjclIjABBgsKCw0OCwwMDg4MDRAOHRQNDCIUFRcOHggXDBAWEBEXCxATFAsRGREeCRkMCCIYHRQPHRANDA8WEAsUFSMWGP/AABEIAEMALQMBIgACEQEDEQH/xACAAAEAAgMBAQAAAAAAAAAAAAAABAYBAgUHAxAAAgEDAwMEAgIDAAAAAAAAAQIDAAQRBRIhEyIxBhQyQSRRUnFUYWIBAQEBAQEBAAAAAAAAAAAAAAMAAgEFBBEAAgIABAMJAQAAAAAAAAAAAREAAgMSITFBobETIkJRUmFxcoGR/9oADAMBAAIRAxEAPwDw2lK7Oh2lnfX4guxPsZe0wuqsDkDnfG4NYtYVBsdgJoBkCcald3UdFl026givLiBFuNzq65YrGDgM6hc91TI9Olje7hultFBgVYTPJ02DcsjqfG7juU/yo+2ogQWCGD7NcuM1ks0pVqVkjBIrFPDirp6L9l7y89zPbWr9AdCebZ2neCxQTdpNUulFeuapq05oFFz2qTTdAuYjaPq1vez3M4/JnljeWGMgu6Wq5KpyOAtQrz0x6en/ACutPCoCJJDEykkgMzSEyGvLLKee1vYJ7cZmhkV4R57wcjgVZ7n1TrUsyLPBCskG5WTa4OSksR3gv5xIa804GJUjJYpalrX67cBHFgRr0fOVGTp9R+luEe49Pd8tueN2OM4rSlK9efNFSbW1urydYLSJppn+Ea+TS2iFxcwwySpCjuFaZ/iik8sf6qyapb22j3Bl9Oaobi3eEJLNlVlDHKugxRWsu6FmO26i1q9S8o385A0m4vdK1m1kKsGgm5UFfIypAY5XirBrl5qN/rs7aMTtuljkcB03PIy/t8Zb6IWqOrYXksQM4H/VdLSbC91S7WOKZYUQqZbmVsJGM8MfvPHAFHaoeckAgJ+H+dItblZACWWPV8PrPhe6Zqtj3X1rNBk4y4+651Xz1fMyt7U3iagsPTVLxeC/bkl1GQKozoyEBhgkZreHa1qg2T5KHiVFSqshfrmlZ4x95rZAhPe20fvGalrFYMcdeQf7YYFNBkIYzznFfTfhGSMuFfG8E8HHIqY1vZDxcBv6xWfbWP8AlDxmqdkBXdfiawWJOTipLx2oC7Zjk5zxnjJH1g1EqlFKUqnIpSlUopSlUp//2Q==)"
      ],
      "metadata": {
        "id": "5J8QlRB0L4Up"
      }
    },
    {
      "cell_type": "code",
      "source": [
        "quarto_filme = {' O Poderoso Chefão II'}, {'1974'}, {'Em 1950, Michael Corleone, agora à frente da família, tenta expandir o negócio do crime a Las Vegas, Los Angeles e Cuba. Paralelamente, é revelada a história de Vito Corleone, e de como saiu da Sicília e chegou a Nova Iorque.'}\n",
        "print(quarto_filme)"
      ],
      "metadata": {
        "id": "eUg4NfknFApN"
      },
      "execution_count": null,
      "outputs": []
    },
    {
      "cell_type": "markdown",
      "source": [
        "![5.jpg](data:image/jpeg;base64,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)"
      ],
      "metadata": {
        "id": "FnIvU8WNMd-p"
      }
    },
    {
      "cell_type": "code",
      "source": [
        "quinto_filme = {'12 Homens e uma Sentença'}, {'1957'}, {'Um jurado que se aposenta tenta evitar um erro judicial forçando seus colegas a reconsiderarem as evidências'}\n",
        "print(quinto_filme)"
      ],
      "metadata": {
        "id": "jkIAuc72FAwG"
      },
      "execution_count": null,
      "outputs": []
    },
    {
      "cell_type": "markdown",
      "source": [
        "![6.jpg](data:image/jpeg;base64,/9j/4AAQSkZJRgABAQAAAQABAAD/2wCEAAkJCggKCAsLCQsKCwsLDhAMCgsNExcVEBQPFhISDhYSDxQPDxQSFBgTFhQZIBoeGRgrIRwkExwdMiIzKjclIjABBgsKCw0OCwwMDg4MDRAOHRQNDCIUFRcOHggXDBAWEBEXCxATFAsRGREeCRkMCCIYHRQPHRANDA8WEAsUFSMWGP/AABEIAEMALQMBIgACEQEDEQH/xAB6AAABBQEBAQAAAAAAAAAAAAAFAAMEBgcBAggQAAICAQMCBQQDAQEAAAAAAAECAxEEAAUSITEGE0FRYSIyQnEUI1IVkQEAAwEBAAAAAAAAAAAAAAAAAAMEAQIRAAICAgIBBQAAAAAAAAAAAAABAhEDMSFh8EFRgaHB/9oADAMBAAIRAxEAPwDDdegr1YViPetWTw9FHlvJhBhFNKysH6W8HVJ4vqBHSNi6/KaKYmPE+2Q5U8BHK1mQO4DBXaNgQZLFheutAqGMks00cUKGSWVgkaDuWPTW5eHtjOx4olmpsyX70Pq3tdXWm/CWw7VhvLnvCpZJGO3zEtZgMUBV6vj1tz2/LR+dmlyS31FxbIx9DylAsdqPDUuRt8LX6UwVW65r6CCyPjRSZmU0Sy8CeH4qNYr4l8T5uduRbElKRRjgOGrj4k3WWWZsCDu8jiQn7WVODPGR8o5I+Y61lc0EUeVkIoChZnUKOwAYgAaZjxrb+ELlIi4mRkY4cQsE8wEF6BYWCloSCVtWIse+rL4c2nO3jLsvONuxKfNms178F+W1VF6txRSxJCoo6knsK/evpfb9tTw/4VxsTK8tXEavl+xme2ez68brXWSTUeNhBXJWCYMqBh5zxvjYMNwwMTScR2Xj3LHWd7/4oZ5ZcTaQEViVkmB1aPEux7jueMj7NMXaNSBgMa5JZJeC/wA21kPAwytG6NFJGxSSNxTKw6EMD1saRjhF099FGWTTa8rzZMObn5D3kSM7k2XAAJPa3KAFj8nTbcrs9SepOuCwfk6VtZCi9WkJJ8NpMfEGE8KRvJDIJ0SQgIxT6wpLe5Gtt3LecXf9p/i5GMYN0SSOSHFyGKRmQG+riw6awRWEUgkqwjCx8fsddWGPc9wEPkzF5PtkjikoyBPQqwqRSVP7N6RNN6KIUbNtZgdzKu4Y7TwV/wBDPUjyEl+4xY4Y8D86ybxm+VP4hkbLxcbHk48keHvLHdI83sx1UZM3LAhiWWaOPDlaTDiv6UYvzsfPLUqbPyM6Tnl8WmduUuQSfMc+vM6yMKaZkpXZHcuCO3713kNckNMANMlgD6D5OqRJK24QPmo2SVXGiPmz8vVR1416ltT9vy1aTc8h1tsskUwulLFyNB8GFshnX6Ctr5nK743140DR0TbBgmULE0yqKpLFD3sBBZvSmh6kkku7fvelz16dtgGYjzW4ihZoXeuRtRGjo2zDN1/I9abktD9/1abO3Y3k+YPPNXZ5KAQDXS49dCQSXPKwb14NnRs7bjEf1GUFgDG7MOHUfkRFoPkQyY8zRS/cvqOxHcEX767MHseaSOJghUWetqD7e4OnYsnI8ywwFqbpVr/wLWlpa4AltkT8u69x+K+yj/Om2yZ/NK8l4leq8V49/bjWlpaAHP5E9MLWuR6cV/X+dCshmaS270NLS0xGH//Z)"
      ],
      "metadata": {
        "id": "dJWijEGpMmb4"
      }
    },
    {
      "cell_type": "code",
      "source": [
        "sexto_filme = {' A Lista de Schindler'}, {'1993'}, {'Depois de testemunhar a perseguição dos judaicos na Polônia ocupada pelos alemães durante a Segunda Guerra Mundial, o industrial Oskar Schindler se começa a preocupar com sua força de trabalho judaica'}\n",
        "print(sexto_filme)"
      ],
      "metadata": {
        "id": "LXB-_0iqFA1l"
      },
      "execution_count": null,
      "outputs": []
    },
    {
      "cell_type": "markdown",
      "source": [
        "![7.jpg](data:image/jpeg;base64,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)"
      ],
      "metadata": {
        "id": "f6cVGtdxMuNg"
      }
    },
    {
      "cell_type": "code",
      "source": [
        "setimo_filme = {'O Senhor dos Anéis: O Retorno do Rei'}, {'2003'}, {'Gandalf e Aragorn lideram o Mundo dos Homens contra o exército de Sauron para desviar o olhar de Frodo e Sam quando eles se aproximam á Montanha da Perdição com o Um Anel'}\n",
        "print(setimo_filme)"
      ],
      "metadata": {
        "id": "HXpT7yZ6FA8G"
      },
      "execution_count": null,
      "outputs": []
    },
    {
      "cell_type": "markdown",
      "source": [
        "![8.jpg](data:image/jpeg;base64,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)"
      ],
      "metadata": {
        "id": "2sp_lSg1M1fo"
      }
    },
    {
      "cell_type": "code",
      "source": [
        "oitavo_filme = {'Pulp Fiction: Tempo de Violência'}, {'1994'}, {'As vidas de dois assassinos da máfia, um boxeador, um gângster e sua esposa, e um par de bandidos se entrelaçam em quatro histórias de violência e redenção'}\n",
        "print(oitavo_filme)"
      ],
      "metadata": {
        "id": "2_HwN3FpFBIe"
      },
      "execution_count": null,
      "outputs": []
    },
    {
      "cell_type": "markdown",
      "source": [
        "![9.jpg](data:image/jpeg;base64,/9j/4AAQSkZJRgABAQAAAQABAAD/2wCEAAkJCggKCAsLCQsKCwsLDhAMCgsNExcVEBQPFhISDhYSDxQPDxQSFBgTFhQZIBoeGRgrIRwkExwdMiIzKjclIjABBgsKCw0OCwwMDg4MDRAOHRQNDCIUFRcOHggXDBAWEBEXCxATFAsRGREeCRkMCCIYHRQPHRANDA8WEAsUFSMWGP/AABEIAEMALQMBIgACEQEDEQH/xACDAAABBAMAAAAAAAAAAAAAAAAHAAQFBgECAxAAAgEDAwMCBQQDAAAAAAAAAQIDAAQRBRIhBjFBEyIUI1FhcRUyQpEzYoEBAAMBAQEAAAAAAAAAAAAAAAACAwQBBREAAQQBAgUDBQAAAAAAAAAAAQACESESAzEiQVFh8HGBoUJSctHh/9oADAMBAAIRAxEAPwCl6RKkc0Wf5MoP9g0WL/VZNM0uK6sbc30wRVEHYCIDMjk/Rcj/AK1BK2NzEBK0ErQoR60+0mNM8Asw4FWttZKanDZzOktmlsUjKg78yKCSShycMo7V5RbBcQJJbXsR4F6NODJoTfoib0prEPUkMzSQi2vbTAniH7SrdmSpXV7WBEWSZ0TawILEDjHNAKxutVXUp5tNke1khHpyyx5BCj28+TTga/rNzJLbam73MzhY7aWfICqTnODj99WMFpGIJUMOIEGATARcTp2y1B/Uu2b4cASvsON/kYYUG+orS2t9VlisyTAoBQn7gEgHzijJ07O11o9tGyPst3kgc7gU3ZPKEHPtZePzVC6qsY0vYSgVQ0eePzUhAwxEAgz+XD4E18YJkg16Wozp7VbVI7vTb1SBertiJ5jzsIw4ziq5LLcRRxO9uUn2bVuMEFoyTyvgeR7andIsR8MsuwtOWfeSMYRl2csc5ABPjuacanbyH4eCIqvpIR6mcsF3MQqs3I4NIHNa90c9+kgFXdJYJNjZY6LvbGyvbhdSgtjLNh7a4nbYF7pIrP8AdeQKbT/p+q9UzPYwlbGMqkHfDkMAXYsxLZqPeAOxXhlH+T7n7mu0EBiaOW3YxSxsGQ/jxTmJc6YJHt5+ypDIBtV1RckuodP0hltZYoypWB4404SZjxkqNuSCP7qr6t8VMLdzGIcq+A/cjIwfGM1yXUmuob2MRLbe2Cb1zyHmDAnAyDU7Fdtd2kDzWuXCkNlcDIOCUDcgHFK2xe4oenm66RERc2T3j+Umc0sdjaoqqq5O1FI5J45JrS50xZUNxPLFaxFlVpnYKnYcAsatlxpKXoUL6ZBHvc9wP9fpUPr3T17PbFLaWWUFUWKI4KKytuBAPk5NZwx3Q4jn58ozFbSuUPTOn/KxdW224IMPvX5mRkenzlq3uelU2bYjk+MeD96pJ6W6rW2hJ9crbMWX6xhefb5AxUtaad1tBa30MMDzW+qelIbl2IdAh4I88rWvBvf5SnUfzIXSXS4YYTFcsxaQgBYuQQOQeO9S2nWDrCSnqW6sQQjfjHmpPRdCvraxRb9OY5CYeeQpp3dQNFOcSlVYDapNIGkWQY6ILgaBlCCPqrV40x6pA8AVYYeo9WVkHxZj+WkqM5UjJXO3k9xQvhBmJPO1fpTpmkc/MkdiBt9zcgDxxVzoO+lxYs+e8iUUU6w1sOEa6ic5wQwTNPpOr9Zymbm2iWTheBgkd+aEkYmfKxGRz3KqxrVi8bEOWVx+4FjkV06Wty1CEss+0Ii6h1jrK23qLJvIIVwNuFHgsAf5VVJ+pNTuH3yy81AOzOpBlcpnO3OVzUc7MHIPcVQaRjjJcZ37IyHIQtCSrEKSBSy31NKlWpRSJbHc1jJ+ppUqF1YNYpUqEL//2Q==)"
      ],
      "metadata": {
        "id": "k6O7PK-bM4go"
      }
    },
    {
      "cell_type": "code",
      "source": [
        "nono_filme = {'O Senhor dos Anéis: A Sociedade do Anel'}, {'2001'}, {'Um manso hobbit do Condado e oito companheiros partem em uma jornada para destruir o poderoso Um Anel e salvar a Terra-média das Trevas'}\n",
        "print(nono_filme)"
      ],
      "metadata": {
        "id": "j5yQrxpEFLtc"
      },
      "execution_count": null,
      "outputs": []
    },
    {
      "cell_type": "markdown",
      "source": [
        "![10.jpg](data:image/jpeg;base64,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)"
      ],
      "metadata": {
        "id": "kEADCTHaM7TR"
      }
    },
    {
      "cell_type": "code",
      "source": [
        "decimo_filme = {'Três Homens em Conflito'}, {'1966'}, {'Um impostor se junta com dois homens para encontrar fortuna num remoto cemitério'}\n",
        "print(decimo_filme)"
      ],
      "metadata": {
        "id": "lwvlTQXgFL2E"
      },
      "execution_count": null,
      "outputs": []
    },
    {
      "cell_type": "code",
      "source": [
        "todos_simples = primeiro_filme + segundo_filme + terceiro_filme + quarto_filme + quinto_filme + sexto_filme + setimo_filme + oitavo_filme + nono_filme + decimo_filme\n",
        "\n",
        "print(todos_simples)"
      ],
      "metadata": {
        "id": "D_byvsLUNO7j"
      },
      "execution_count": null,
      "outputs": []
    }
  ]
}